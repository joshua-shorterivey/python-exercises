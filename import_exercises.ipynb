{
 "cells": [
  {
   "cell_type": "code",
   "execution_count": null,
   "id": "2f420cb3-da13-4c5c-ad99-15dcd44a7cf0",
   "metadata": {},
   "outputs": [],
   "source": [
    "from function_exercises import get_letter_grade as glg"
   ]
  },
  {
   "cell_type": "code",
   "execution_count": null,
   "id": "fcd9580f-21fc-4e71-84cf-93c2ac43b274",
   "metadata": {},
   "outputs": [],
   "source": [
    "glg(79)"
   ]
  },
  {
   "cell_type": "code",
   "execution_count": null,
   "id": "9d920e43-f5bc-455c-8580-bef9640359bc",
   "metadata": {},
   "outputs": [],
   "source": [
    "# Read about and use the itertools module from the python standard library to help you solve the following problems:\n",
    "import itertools as iter\n",
    "# How many different ways can you combine the letters from \"abc\" with the numbers 1, 2, and 3?\n",
    "combine_letters = list(iter.product('abc', '123'))\n",
    "len(combine_letters)"
   ]
  },
  {
   "cell_type": "code",
   "execution_count": null,
   "id": "a89b4382",
   "metadata": {},
   "outputs": [],
   "source": [
    "#How many different combinations are there of 2 letters from \"abcd\"? 6\n",
    "different = len(list(iter.combinations('abcd', 2)))\n",
    "different"
   ]
  },
  {
   "cell_type": "code",
   "execution_count": null,
   "id": "71380ef6",
   "metadata": {},
   "outputs": [],
   "source": [
    "# How many different permutations are there of 2 letters from \"abcd\"? 12\n",
    "diff_perm = list(iter.permutations('abcd', 2))\n",
    "len(diff_perm)"
   ]
  },
  {
   "cell_type": "code",
   "execution_count": 1,
   "id": "0f40880b-bdca-48a5-b986-bf53bb7e6692",
   "metadata": {
    "tags": []
   },
   "outputs": [],
   "source": [
    "# Save this file as profiles.json inside of your exercises directory (right click -> save file as...).\n",
    "# Use the load function from the json module to open this file.\n",
    "import json\n",
    "profiles = json.load(open('profiles.json'))\n",
    "\n",
    "#Your code should produce a list of dictionaries. Using this data, write some code that calculates and outputs the following information:"
   ]
  },
  {
   "cell_type": "code",
   "execution_count": 2,
   "id": "315ddce9-dcb7-48db-8786-69381b5375a8",
   "metadata": {},
   "outputs": [
    {
     "name": "stdout",
     "output_type": "stream",
     "text": [
      "Avery Flynn\n",
      "Fay Hammond\n"
     ]
    }
   ],
   "source": [
    "# Total number of users -- 19\n",
    "len(profiles)\n",
    "# Number of active users -- 9\n",
    "len([user for user in profiles if user['isActive'] == True])\n",
    "\n",
    "# Number of inactive users -- 10\n",
    "len([user for user in profiles if user['isActive'] != True])\n",
    "\n",
    "# Grand total of balances for all users -- $52,667.02\n",
    "balance_list = [float(user['balance'].replace('$', '').replace(',' , '')) for user in profiles]\n",
    "sum(balance_list)\n",
    "\n",
    "# Average balance per user -- $2,771.95\n",
    "round(sum(balance_list) / len(balance_list), 2)\n",
    "\n",
    "# User with the lowest balance -- Avery Flynn\n",
    "for user in profiles:\n",
    "    if float(user['balance'].replace('$', '').replace(',' , '')) == min(balance_list):\n",
    "        print(user['name'])\n",
    "        \n",
    "# User with the highest balance -- Fay Hammond\n",
    "for user in profiles:\n",
    "    if float(user['balance'].replace('$', '').replace(',' , '')) == max(balance_list):\n",
    "        print(user['name'])\n",
    "        "
   ]
  },
  {
   "cell_type": "code",
   "execution_count": 4,
   "id": "f5762a19-c695-45c0-810d-da956cc5dfb6",
   "metadata": {
    "tags": []
   },
   "outputs": [
    {
     "name": "stdout",
     "output_type": "stream",
     "text": [
      "{'strawberry': 1}\n",
      "{'strawberry': 1, 'apple': 1}\n",
      "{'strawberry': 1, 'apple': 1, 'banana': 1}\n",
      "{'strawberry': 1, 'apple': 1, 'banana': 2}\n",
      "{'strawberry': 1, 'apple': 2, 'banana': 2}\n",
      "{'strawberry': 1, 'apple': 3, 'banana': 2}\n",
      "{'strawberry': 1, 'apple': 3, 'banana': 3}\n",
      "{'strawberry': 2, 'apple': 3, 'banana': 3}\n",
      "{'strawberry': 3, 'apple': 3, 'banana': 3}\n",
      "{'strawberry': 3, 'apple': 3, 'banana': 4}\n",
      "{'strawberry': 4, 'apple': 3, 'banana': 4}\n",
      "{'strawberry': 5, 'apple': 3, 'banana': 4}\n",
      "{'strawberry': 5, 'apple': 4, 'banana': 4}\n",
      "{'strawberry': 6, 'apple': 4, 'banana': 4}\n",
      "{'strawberry': 7, 'apple': 4, 'banana': 4}\n",
      "{'strawberry': 7, 'apple': 4, 'banana': 5}\n",
      "{'strawberry': 8, 'apple': 4, 'banana': 5}\n",
      "{'strawberry': 8, 'apple': 4, 'banana': 6}\n",
      "{'strawberry': 9, 'apple': 4, 'banana': 6}\n"
     ]
    },
    {
     "data": {
      "text/plain": [
       "[('apple', 4), ('banana', 6), ('strawberry', 9)]"
      ]
     },
     "execution_count": 4,
     "metadata": {},
     "output_type": "execute_result"
    }
   ],
   "source": [
    "# Most common favorite fruit -- \n",
    "fruits_dict = {}\n",
    "for user in profiles:\n",
    "    fruit = user['favoriteFruit']\n",
    "    if fruit not in fruits_dict:\n",
    "        fruits_dict[fruit] = 1\n",
    "    else: \n",
    "        fruits_dict[fruit] += 1\n",
    "    print(fruits_dict)\n",
    "sorted(fruits_dict.items(), key=lambda x:x[1])"
   ]
  },
  {
   "cell_type": "code",
   "execution_count": null,
   "id": "8f8a4af6-545b-4444-95e9-06d44aeb41d1",
   "metadata": {},
   "outputs": [],
   "source": [
    "# Least most common favorite fruit\n",
    "\n",
    "# Total number of unread messages for all users\n",
    "total_unread = 0\n",
    "unread = '' #immutable place holder for eventual join\n",
    "for user in profiles:\n",
    "    unread_count = [char for char in user['greeting'] if char.isnumeric()]\n",
    "    total_unread += int(unread.join(unread_count))\n",
    "\n"
   ]
  }
 ],
 "metadata": {
  "kernelspec": {
   "display_name": "Python 3 (ipykernel)",
   "language": "python",
   "name": "python3"
  },
  "language_info": {
   "codemirror_mode": {
    "name": "ipython",
    "version": 3
   },
   "file_extension": ".py",
   "mimetype": "text/x-python",
   "name": "python",
   "nbconvert_exporter": "python",
   "pygments_lexer": "ipython3",
   "version": "3.9.12"
  },
  "vscode": {
   "interpreter": {
    "hash": "31f2aee4e71d21fbe5cf8b01ff0e069b9275f58929596ceb00d14d90e3e16cd6"
   }
  }
 },
 "nbformat": 4,
 "nbformat_minor": 5
}
