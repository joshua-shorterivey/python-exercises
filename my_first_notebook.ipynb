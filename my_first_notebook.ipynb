{
 "cells": [
  {
   "cell_type": "code",
   "execution_count": 1,
   "id": "d967969f",
   "metadata": {},
   "outputs": [],
   "source": [
    "test = 'this is one'"
   ]
  },
  {
   "cell_type": "code",
   "execution_count": 3,
   "id": "c8dea08a",
   "metadata": {},
   "outputs": [],
   "source": [
    "second_test = f'{test} added to some extra text'\n"
   ]
  },
  {
   "cell_type": "code",
   "execution_count": 13,
   "id": "48a0fe65",
   "metadata": {},
   "outputs": [
    {
     "name": "stdout",
     "output_type": "stream",
     "text": [
      "this is one \n",
      "this is one added to some extra text\n",
      "and then\n"
     ]
    }
   ],
   "source": [
    "no_imagination = f'{test} \\n{second_test}\\nand then'\n",
    "print (no_imagination)"
   ]
  },
  {
   "cell_type": "markdown",
   "id": "873e45ae",
   "metadata": {},
   "source": [
    "## good shortcuts\n",
    "# ^ (ctrl) + enter OR cmd + enter ~ run cell\n",
    "# cmd + s ~ save checkpoint\n",
    "# esc ~ exit cell"
   ]
  }
 ],
 "metadata": {
  "kernelspec": {
   "display_name": "Python 3 (ipykernel)",
   "language": "python",
   "name": "python3"
  },
  "language_info": {
   "codemirror_mode": {
    "name": "ipython",
    "version": 3
   },
   "file_extension": ".py",
   "mimetype": "text/x-python",
   "name": "python",
   "nbconvert_exporter": "python",
   "pygments_lexer": "ipython3",
   "version": "3.9.12"
  }
 },
 "nbformat": 4,
 "nbformat_minor": 5
}
