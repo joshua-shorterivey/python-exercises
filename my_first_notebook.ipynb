{
 "cells": [
  {
   "cell_type": "markdown",
   "id": "a92774b4",
   "metadata": {},
   "source": [
    "This is the First Excercise completed at Codeup"
   ]
  },
  {
   "cell_type": "markdown",
   "id": "6c91d63f",
   "metadata": {},
   "source": [
    "## Variable Assignment"
   ]
  },
  {
   "cell_type": "code",
   "execution_count": 2,
   "id": "d967969f",
   "metadata": {},
   "outputs": [],
   "source": [
    "test = 'this is one'"
   ]
  },
  {
   "cell_type": "markdown",
   "id": "d2cd3683",
   "metadata": {},
   "source": [
    "## Variable Assignment with a string formatter"
   ]
  },
  {
   "cell_type": "code",
   "execution_count": 3,
   "id": "c8dea08a",
   "metadata": {},
   "outputs": [],
   "source": [
    "second_test = f'{test} added to some extra text'\n"
   ]
  },
  {
   "cell_type": "code",
   "execution_count": 4,
   "id": "48a0fe65",
   "metadata": {},
   "outputs": [
    {
     "name": "stdout",
     "output_type": "stream",
     "text": [
      "this is one \n",
      "this is one added to some extra text\n",
      "and then\n"
     ]
    }
   ],
   "source": [
    "no_imagination = f'{test} \\n{second_test}\\nand then'\n",
    "print (no_imagination)"
   ]
  },
  {
   "cell_type": "markdown",
   "id": "ecceeb50",
   "metadata": {},
   "source": [
    "## trying a different way to format a string"
   ]
  },
  {
   "cell_type": "code",
   "execution_count": 10,
   "id": "d923baee",
   "metadata": {},
   "outputs": [
    {
     "name": "stdout",
     "output_type": "stream",
     "text": [
      "this is one\n",
      "this is one added to some extra text\n"
     ]
    }
   ],
   "source": [
    "#str.format\n",
    "\n",
    "less_imagination = '{}\\n{}'.format(test, second_test)\n",
    "print(less_imagination)"
   ]
  },
  {
   "cell_type": "code",
   "execution_count": null,
   "id": "5dbd0f4f",
   "metadata": {},
   "outputs": [],
   "source": []
  },
  {
   "cell_type": "markdown",
   "id": "873e45ae",
   "metadata": {},
   "source": [
    "## good shortcuts for working in a notebook. ade some changes to vs code shortcuts\n",
    "^ (ctrl) + enter OR shift + enter ~ run cell \n",
    "cmd + s ~ save checkpoint \n",
    "esc ~ exit cell "
   ]
  },
  {
   "cell_type": "markdown",
   "id": "68e9b162",
   "metadata": {},
   "source": []
  }
 ],
 "metadata": {
  "kernelspec": {
   "display_name": "Python 3.9.6 64-bit",
   "language": "python",
   "name": "python3"
  },
  "language_info": {
   "codemirror_mode": {
    "name": "ipython",
    "version": 3
   },
   "file_extension": ".py",
   "mimetype": "text/x-python",
   "name": "python",
   "nbconvert_exporter": "python",
   "pygments_lexer": "ipython3",
   "version": "3.9.6"
  },
  "vscode": {
   "interpreter": {
    "hash": "31f2aee4e71d21fbe5cf8b01ff0e069b9275f58929596ceb00d14d90e3e16cd6"
   }
  }
 },
 "nbformat": 4,
 "nbformat_minor": 5
}
